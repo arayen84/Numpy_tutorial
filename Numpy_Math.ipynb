{
  "nbformat": 4,
  "nbformat_minor": 0,
  "metadata": {
    "colab": {
      "provenance": [],
      "authorship_tag": "ABX9TyNYYE32XzFI7njdPzNoAk59",
      "include_colab_link": true
    },
    "kernelspec": {
      "name": "python3",
      "display_name": "Python 3"
    },
    "language_info": {
      "name": "python"
    }
  },
  "cells": [
    {
      "cell_type": "markdown",
      "metadata": {
        "id": "view-in-github",
        "colab_type": "text"
      },
      "source": [
        "<a href=\"https://colab.research.google.com/github/arayen84/Numpy_tutorial/blob/main/Numpy_Math.ipynb\" target=\"_parent\"><img src=\"https://colab.research.google.com/assets/colab-badge.svg\" alt=\"Open In Colab\"/></a>"
      ]
    },
    {
      "cell_type": "code",
      "execution_count": 31,
      "metadata": {
        "id": "eGxFo2ey20lV"
      },
      "outputs": [],
      "source": [
        "from numpy import random\n",
        "import numpy as np"
      ]
    },
    {
      "cell_type": "markdown",
      "source": [
        "## **randint\n",
        "**"
      ],
      "metadata": {
        "id": "yy_5mXNT6FmM"
      }
    },
    {
      "cell_type": "code",
      "source": [
        "x=random.randint(200)\n",
        "print(x)"
      ],
      "metadata": {
        "colab": {
          "base_uri": "https://localhost:8080/"
        },
        "id": "y9NtQqrj3fjL",
        "outputId": "1b2cdb72-2737-449b-927b-fe674b9b9045"
      },
      "execution_count": null,
      "outputs": [
        {
          "output_type": "stream",
          "name": "stdout",
          "text": [
            "78\n"
          ]
        }
      ]
    },
    {
      "cell_type": "code",
      "source": [
        "# to print more than 1 random number use SIZE variable\n",
        "xx=random.randint(100,size=8)\n",
        "print(xx)"
      ],
      "metadata": {
        "colab": {
          "base_uri": "https://localhost:8080/"
        },
        "id": "QC86TTi54Glk",
        "outputId": "f5e5414e-fb30-422b-f762-93198ddfc716"
      },
      "execution_count": null,
      "outputs": [
        {
          "output_type": "stream",
          "name": "stdout",
          "text": [
            "[66 89 11 39 36 36 21 12]\n"
          ]
        }
      ]
    },
    {
      "cell_type": "code",
      "source": [
        "# to print 2-dimentional use SIZE=(a,b)\n",
        "xx1=random.randint(50,size=(4,5))\n",
        "print(xx1)"
      ],
      "metadata": {
        "colab": {
          "base_uri": "https://localhost:8080/"
        },
        "id": "514IEbDt4oYu",
        "outputId": "1140073c-c8d4-4ae8-b841-9c509f56c8f8"
      },
      "execution_count": null,
      "outputs": [
        {
          "output_type": "stream",
          "name": "stdout",
          "text": [
            "[[15 30  3 30 33]\n",
            " [27 46  3  4 36]\n",
            " [18 46  3 28  4]\n",
            " [ 3 39  2 49 20]]\n"
          ]
        }
      ]
    },
    {
      "cell_type": "code",
      "source": [
        "# tp print 3-dimentional use SIZE=(a,b,c)\n",
        "xx2=random.randint(150,size=(4,5,3))\n",
        "print(xx2)"
      ],
      "metadata": {
        "colab": {
          "base_uri": "https://localhost:8080/"
        },
        "id": "4iSe0Xgv5GSS",
        "outputId": "955077ad-3c86-4702-9ff6-6ab315255938"
      },
      "execution_count": null,
      "outputs": [
        {
          "output_type": "stream",
          "name": "stdout",
          "text": [
            "[[[113  65  72]\n",
            "  [139   9  55]\n",
            "  [ 96  96  80]\n",
            "  [ 91 112 115]\n",
            "  [ 53  45  56]]\n",
            "\n",
            " [[  4  11 130]\n",
            "  [ 65  16  21]\n",
            "  [ 37  18   9]\n",
            "  [132  90 116]\n",
            "  [ 60  25  93]]\n",
            "\n",
            " [[ 95 111 144]\n",
            "  [125 113 114]\n",
            "  [ 13  71  34]\n",
            "  [ 47   1  53]\n",
            "  [ 33   1  26]]\n",
            "\n",
            " [[ 99  14  79]\n",
            "  [149  60  52]\n",
            "  [116  49 110]\n",
            "  [103  99  11]\n",
            "  [138 133 148]]]\n"
          ]
        }
      ]
    },
    {
      "cell_type": "markdown",
      "source": [
        "## **rand**\n"
      ],
      "metadata": {
        "id": "YLkzoVWB6Qh8"
      }
    },
    {
      "cell_type": "code",
      "source": [
        "# print 0 to 1 use rand\n",
        "x1=random.rand()\n",
        "print(x1)"
      ],
      "metadata": {
        "colab": {
          "base_uri": "https://localhost:8080/"
        },
        "id": "CwMN_22H3t2G",
        "outputId": "4fece3b7-7216-4f72-c10f-b07589acb5a1"
      },
      "execution_count": null,
      "outputs": [
        {
          "output_type": "stream",
          "name": "stdout",
          "text": [
            "0.32482792638989333\n"
          ]
        }
      ]
    },
    {
      "cell_type": "markdown",
      "source": [
        "# **choice()**\n"
      ],
      "metadata": {
        "id": "0OgNco_j6gpj"
      }
    },
    {
      "cell_type": "code",
      "source": [
        "x2=random.choice([2,3,9,7,5,8],size=(4,3))\n",
        "print(x2)"
      ],
      "metadata": {
        "colab": {
          "base_uri": "https://localhost:8080/"
        },
        "id": "tBt43wyf6kNM",
        "outputId": "a2d97193-e52b-4ff4-89d1-9238eb28308a"
      },
      "execution_count": 19,
      "outputs": [
        {
          "output_type": "stream",
          "name": "stdout",
          "text": [
            "[[8 9 2]\n",
            " [3 5 7]\n",
            " [2 5 5]\n",
            " [7 7 5]]\n"
          ]
        }
      ]
    },
    {
      "cell_type": "markdown",
      "source": [
        "# data distribution\n",
        "p=0 to 0.9 (probability)"
      ],
      "metadata": {
        "id": "RN2SwbkdA5l7"
      }
    },
    {
      "cell_type": "code",
      "source": [
        "x3=random.choice([2,3,4,5],p=[0.6,0.2,0.1,0.1],size=(25))\n",
        "print(x3)"
      ],
      "metadata": {
        "colab": {
          "base_uri": "https://localhost:8080/"
        },
        "id": "vFGHiQmnBFFw",
        "outputId": "7818bb71-89ab-44f4-fdcf-cda95488709f"
      },
      "execution_count": 30,
      "outputs": [
        {
          "output_type": "stream",
          "name": "stdout",
          "text": [
            "[2 2 2 5 3 2 2 3 4 2 2 2 2 5 2 2 2 2 2 4 2 2 3 5 2]\n"
          ]
        }
      ]
    },
    {
      "cell_type": "markdown",
      "source": [
        "# permutation"
      ],
      "metadata": {
        "id": "k9DlkxdnC255"
      }
    },
    {
      "cell_type": "code",
      "source": [
        "#shuffle\n",
        "x=np.array([2,3,4,9,8])\n",
        "random.shuffle(x)\n",
        "print(x)"
      ],
      "metadata": {
        "colab": {
          "base_uri": "https://localhost:8080/"
        },
        "id": "nibPR5mHC6FH",
        "outputId": "bd624bf2-ac47-4efd-a6f2-a10d03e39005"
      },
      "execution_count": 34,
      "outputs": [
        {
          "output_type": "stream",
          "name": "stdout",
          "text": [
            "[9 4 2 8 3]\n"
          ]
        }
      ]
    },
    {
      "cell_type": "code",
      "source": [
        "#using permutaion\n",
        "x4=np.array([4,5,9,2,1,6])\n",
        "y=random.permutation(x4)\n",
        "print(\"changed array :\",y)\n",
        "print(\"Unchanged array :\",x4)"
      ],
      "metadata": {
        "colab": {
          "base_uri": "https://localhost:8080/"
        },
        "id": "iYSG5X0DCzGS",
        "outputId": "460c103e-cf4a-4073-d9c2-79de22dcaadf"
      },
      "execution_count": 42,
      "outputs": [
        {
          "output_type": "stream",
          "name": "stdout",
          "text": [
            "changed array : [2 5 6 4 1 9]\n",
            "Unchanged array : [4 5 9 2 1 6]\n"
          ]
        }
      ]
    }
  ]
}