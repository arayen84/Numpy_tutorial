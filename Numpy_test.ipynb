{
  "nbformat": 4,
  "nbformat_minor": 0,
  "metadata": {
    "colab": {
      "provenance": [],
      "authorship_tag": "ABX9TyMATtj8SAH6mThzx6Wa4xGo",
      "include_colab_link": true
    },
    "kernelspec": {
      "name": "python3",
      "display_name": "Python 3"
    },
    "language_info": {
      "name": "python"
    }
  },
  "cells": [
    {
      "cell_type": "markdown",
      "metadata": {
        "id": "view-in-github",
        "colab_type": "text"
      },
      "source": [
        "<a href=\"https://colab.research.google.com/github/arayen84/Numpy_tutorial/blob/main/Numpy_test.ipynb\" target=\"_parent\"><img src=\"https://colab.research.google.com/assets/colab-badge.svg\" alt=\"Open In Colab\"/></a>"
      ]
    },
    {
      "cell_type": "code",
      "execution_count": null,
      "metadata": {
        "colab": {
          "base_uri": "https://localhost:8080/"
        },
        "id": "tt-0pkz3WGYH",
        "outputId": "663f49c8-8ba3-4d3f-8a2a-195633d702e8"
      },
      "outputs": [
        {
          "output_type": "stream",
          "name": "stdout",
          "text": [
            "hello World\n"
          ]
        }
      ],
      "source": [
        "import numpy as np\n",
        "x= np.array([\"hello \", 1 , \"World\"])\n",
        "print(x[0]+x[2])"
      ]
    },
    {
      "cell_type": "code",
      "source": [
        "y = np.array( [ [1,2] , [3,4] ,[5,6]])\n",
        "print(y)\n",
        "print(y.ndim)\n",
        "print(y[0])\n",
        "print(y[0],y[2])\n",
        "print(y[0,1],y[2][1])"
      ],
      "metadata": {
        "colab": {
          "base_uri": "https://localhost:8080/"
        },
        "id": "N2jJPRciXYe6",
        "outputId": "2658956e-9667-4af3-fac2-caa5b8329f06"
      },
      "execution_count": null,
      "outputs": [
        {
          "output_type": "stream",
          "name": "stdout",
          "text": [
            "[[1 2]\n",
            " [3 4]\n",
            " [5 6]]\n",
            "2\n",
            "[1 2]\n",
            "[1 2] [5 6]\n",
            "2 6\n"
          ]
        }
      ]
    },
    {
      "cell_type": "code",
      "source": [
        "z=np.array( [ [ [1,2,3], [4,5,6]]])\n",
        "print(z)\n",
        "print(\"----\")\n",
        "print(z[0])\n",
        "print(\"----\")\n",
        "print(z[0,1])\n",
        "print(\"----\")\n",
        "print(z[0,1,2])"
      ],
      "metadata": {
        "id": "bM4hzlDUZHqB",
        "colab": {
          "base_uri": "https://localhost:8080/"
        },
        "outputId": "834f8040-874f-4d5d-ccd0-c8011daf1775"
      },
      "execution_count": null,
      "outputs": [
        {
          "output_type": "stream",
          "name": "stdout",
          "text": [
            "[[[1 2 3]\n",
            "  [4 5 6]]]\n",
            "----\n",
            "[[1 2 3]\n",
            " [4 5 6]]\n",
            "----\n",
            "[4 5 6]\n",
            "----\n",
            "6\n"
          ]
        }
      ]
    },
    {
      "cell_type": "code",
      "source": [
        " Z1=np.array([ 1,2,3,4,5,6,7,88,78,56,456,9])\n",
        " print(Z1)\n",
        " print(\"------\")\n",
        " print(Z1[1:7])\n",
        " print(\"------\")\n",
        " print(Z1[1:7:2])\n"
      ],
      "metadata": {
        "id": "QYzPpc1IjmBv",
        "colab": {
          "base_uri": "https://localhost:8080/"
        },
        "outputId": "fedd2e65-b30c-4fa1-c6f2-e97bf5c55422"
      },
      "execution_count": null,
      "outputs": [
        {
          "output_type": "stream",
          "name": "stdout",
          "text": [
            "[  1   2   3   4   5   6   7  88  78  56 456   9]\n",
            "------\n",
            "[2 3 4 5 6 7]\n",
            "------\n",
            "[2 4 6]\n"
          ]
        }
      ]
    },
    {
      "cell_type": "code",
      "source": [
        "Z2 = np.array( [[1,2,3], [4,5,6], [7,8,9]])\n",
        "print(Z2)\n",
        "print(\"-------\")\n",
        "print(Z2[1])\n",
        "print(\"-------\")\n",
        "print(Z2[1,1:2])\n",
        "print(\"------\")\n",
        "print(Z2[2,1:])\n",
        "print(\"------\")\n",
        "print(Z2[0:2,2])\n",
        "print(\"------\")\n",
        "print(Z2[0:2,1:1])\n",
        "\n"
      ],
      "metadata": {
        "colab": {
          "base_uri": "https://localhost:8080/"
        },
        "id": "jK-Pr7-vl6sQ",
        "outputId": "114ad101-12ea-40be-9f69-4ab7177cebc6"
      },
      "execution_count": null,
      "outputs": [
        {
          "output_type": "stream",
          "name": "stdout",
          "text": [
            "[[1 2 3]\n",
            " [4 5 6]\n",
            " [7 8 9]]\n",
            "-------\n",
            "[4 5 6]\n",
            "-------\n",
            "[5]\n",
            "------\n",
            "[8 9]\n",
            "------\n",
            "[3 6]\n",
            "------\n",
            "[]\n"
          ]
        }
      ]
    },
    {
      "cell_type": "code",
      "source": [
        "#convert number to string\n",
        "\n",
        "x4=np.array([1,2,3,4,5])\n",
        "print(x4)\n",
        "x3=np.array([1,2,3,4,5],dtype = \"S\")\n",
        "print(x3)\n"
      ],
      "metadata": {
        "id": "pg2BWCZfkW7g"
      },
      "execution_count": null,
      "outputs": []
    },
    {
      "cell_type": "code",
      "source": [
        "# using same array in different variable name\n",
        "x5=np.array([1,2,3,4,5])\n",
        "new_x5=x5.astype(\"S\")\n",
        "print(new_x5.dtype)"
      ],
      "metadata": {
        "id": "2QD57-WDmKKU"
      },
      "execution_count": null,
      "outputs": []
    },
    {
      "cell_type": "code",
      "source": [
        "# numpy cpoy & view\n",
        "x6=np.array([1,2,3,4,5,6])\n",
        "y=x6.copy()\n",
        "y1=x6.view()\n",
        "x6[1]=2000\n",
        "x6[3]=3000\n",
        "print(\"x6 : \",x6)\n",
        "print(\"y : \",y)\n",
        "print(\"y1 : \",y1)"
      ],
      "metadata": {
        "id": "PhRob4sso6Ek"
      },
      "execution_count": null,
      "outputs": []
    },
    {
      "cell_type": "code",
      "source": [
        "# Array shape & reshape\n",
        "x7=np.array([ [1,2,3,4], [5,6,7,8] ])\n",
        "print(x7.shape)"
      ],
      "metadata": {
        "colab": {
          "base_uri": "https://localhost:8080/"
        },
        "id": "ob5TgwrqrT2H",
        "outputId": "7b86a72e-f1e7-463f-8e8b-56854e077479"
      },
      "execution_count": null,
      "outputs": [
        {
          "output_type": "stream",
          "name": "stdout",
          "text": [
            "(2, 4)\n"
          ]
        }
      ]
    },
    {
      "cell_type": "code",
      "source": [
        "x71=np.array([1,2,3,4],ndmin=3)\n",
        "print(x71)\n",
        "print(x71.shape)"
      ],
      "metadata": {
        "colab": {
          "base_uri": "https://localhost:8080/"
        },
        "id": "6l4zsxIVsTOJ",
        "outputId": "017ada91-53d1-4190-a99a-f310da1457c4"
      },
      "execution_count": null,
      "outputs": [
        {
          "output_type": "stream",
          "name": "stdout",
          "text": [
            "[[[1 2 3 4]]]\n",
            "(1, 1, 4)\n"
          ]
        }
      ]
    },
    {
      "cell_type": "code",
      "source": [
        "x8=np.array([1,2,3,4,5,6,7,8,9,10,11,12,13,14,15,16])\n",
        "print(x8.reshape(4,2,2))"
      ],
      "metadata": {
        "id": "91V1M6HYu6Ta"
      },
      "execution_count": null,
      "outputs": []
    },
    {
      "cell_type": "code",
      "source": [
        "# numpy iterating\n",
        "\n",
        "s1=np.array([1,2,3,4,5,6])\n",
        "for i in s1:\n",
        "  print(i)"
      ],
      "metadata": {
        "colab": {
          "base_uri": "https://localhost:8080/"
        },
        "id": "2xFjOEmRyzAx",
        "outputId": "c3bba805-8d22-42f9-be1f-4a753cd01e54"
      },
      "execution_count": null,
      "outputs": [
        {
          "output_type": "stream",
          "name": "stdout",
          "text": [
            "1\n",
            "2\n",
            "3\n",
            "4\n",
            "5\n",
            "6\n"
          ]
        }
      ]
    },
    {
      "cell_type": "code",
      "source": [
        "s2=np.array([[1,2,3],[4,5,6]])\n",
        "for i in s2:\n",
        "  for j in i:\n",
        "    print(j)"
      ],
      "metadata": {
        "colab": {
          "base_uri": "https://localhost:8080/"
        },
        "id": "v6rAjCUqzyAz",
        "outputId": "c62962db-f5ab-4e87-e647-a4f78cc1ffe8"
      },
      "execution_count": null,
      "outputs": [
        {
          "output_type": "stream",
          "name": "stdout",
          "text": [
            "1\n",
            "2\n",
            "3\n",
            "4\n",
            "5\n",
            "6\n"
          ]
        }
      ]
    },
    {
      "cell_type": "code",
      "source": [
        "s3=np.array([[[1,2,3],[7,8,9]]])\n",
        "for i in s3:\n",
        "  for j in i:\n",
        "    for n in j:\n",
        "\n",
        "       print(n)\n"
      ],
      "metadata": {
        "id": "3oh9a2pW0Dqo"
      },
      "execution_count": null,
      "outputs": []
    },
    {
      "cell_type": "code",
      "source": [
        "s4=np.array([[[1,2,3],[4,5,6],[7,8,9],[11,12,13]]])\n",
        "for i in np.nditer(s4):\n",
        "  print(i)"
      ],
      "metadata": {
        "id": "3MRhKCtx3_W4"
      },
      "execution_count": null,
      "outputs": []
    },
    {
      "cell_type": "code",
      "source": [
        "s5=np.array([1,2,3,4])\n",
        "for i in np.nditer(s5,flags=[\"buffered\"],op_dtypes=\"S\"):\n",
        "  print(i)"
      ],
      "metadata": {
        "id": "FK4naYmp3_Jm"
      },
      "execution_count": null,
      "outputs": []
    },
    {
      "cell_type": "code",
      "source": [
        "s6=np.array([[12,2,3,9,11],[5,6,7,8,12]])\n",
        "for i in np.nditer(s6 [:, : : 2]):  # [:,:] -> take all rows & column :2 -> slicing by 2\n",
        "  print(i)\n",
        "\n"
      ],
      "metadata": {
        "colab": {
          "base_uri": "https://localhost:8080/"
        },
        "id": "jxGnswjX6_S9",
        "outputId": "e555617b-d9a8-4218-830f-17d047301bf7"
      },
      "execution_count": null,
      "outputs": [
        {
          "output_type": "stream",
          "name": "stdout",
          "text": [
            "12\n",
            "3\n",
            "11\n",
            "5\n",
            "7\n",
            "12\n"
          ]
        }
      ]
    },
    {
      "cell_type": "code",
      "source": [
        "s7=np.array([[19,29,39],[4,5,6]])\n",
        "for i in np.ndenumerate(s7):\n",
        "\n",
        "     print(i)"
      ],
      "metadata": {
        "colab": {
          "base_uri": "https://localhost:8080/"
        },
        "id": "KxFkTtyLO8UZ",
        "outputId": "87433a41-de5a-49e6-9162-c7a7f8a83d11"
      },
      "execution_count": 45,
      "outputs": [
        {
          "output_type": "stream",
          "name": "stdout",
          "text": [
            "((0, 0), 19)\n",
            "((0, 1), 29)\n",
            "((0, 2), 39)\n",
            "((1, 0), 4)\n",
            "((1, 1), 5)\n",
            "((1, 2), 6)\n"
          ]
        }
      ]
    },
    {
      "cell_type": "code",
      "source": [
        "a1=np.array([[9,8,6],[88,99,9]])\n",
        "a2=np.array([[3,4,5],[33,44,9]])\n",
        "a3=np.concatenate((a1,a2),axis=1)\n",
        "a4=np.hstack((a1,a2))\n",
        "a5=np.vstack((a1,a2))\n",
        "a6=np.dstack((a1,a2))\n",
        "print(a3)\n",
        "print(\"printing row :\",a4)\n",
        "print(\"printing row :\",a5)\n",
        "print(\"print depth :\", a6)"
      ],
      "metadata": {
        "colab": {
          "base_uri": "https://localhost:8080/"
        },
        "id": "7CPCz7_0Th1N",
        "outputId": "42fb18a0-3546-4a8d-fabe-1158160cf9a2"
      },
      "execution_count": 55,
      "outputs": [
        {
          "output_type": "stream",
          "name": "stdout",
          "text": [
            "[[ 9  8  6  3  4  5]\n",
            " [88 99  9 33 44  9]]\n",
            "printing row : [[ 9  8  6  3  4  5]\n",
            " [88 99  9 33 44  9]]\n",
            "printing row : [[ 9  8  6]\n",
            " [88 99  9]\n",
            " [ 3  4  5]\n",
            " [33 44  9]]\n",
            "print depth : [[[ 9  3]\n",
            "  [ 8  4]\n",
            "  [ 6  5]]\n",
            "\n",
            " [[88 33]\n",
            "  [99 44]\n",
            "  [ 9  9]]]\n"
          ]
        }
      ]
    }
  ]
}