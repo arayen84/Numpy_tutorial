{
  "nbformat": 4,
  "nbformat_minor": 0,
  "metadata": {
    "colab": {
      "provenance": [],
      "authorship_tag": "ABX9TyPRka3amMv+d6/MnNZwnEj8",
      "include_colab_link": true
    },
    "kernelspec": {
      "name": "python3",
      "display_name": "Python 3"
    },
    "language_info": {
      "name": "python"
    }
  },
  "cells": [
    {
      "cell_type": "markdown",
      "metadata": {
        "id": "view-in-github",
        "colab_type": "text"
      },
      "source": [
        "<a href=\"https://colab.research.google.com/github/arayen84/Numpy_tutorial/blob/main/practice_numpy_1.ipynb\" target=\"_parent\"><img src=\"https://colab.research.google.com/assets/colab-badge.svg\" alt=\"Open In Colab\"/></a>"
      ]
    },
    {
      "cell_type": "markdown",
      "source": [
        "## **Random**"
      ],
      "metadata": {
        "id": "hBIPueKqB3w0"
      }
    },
    {
      "cell_type": "code",
      "execution_count": null,
      "metadata": {
        "id": "SMvrxxPV3X-p"
      },
      "outputs": [],
      "source": [
        "import numpy as np\n",
        "from numpy import random"
      ]
    },
    {
      "cell_type": "code",
      "source": [
        "#Write a NumPy program to generate five random numbers from the normal distribution.\n",
        "\n",
        "gen_random = np.random.normal(size=5)\n",
        "print(gen_random)"
      ],
      "metadata": {
        "colab": {
          "base_uri": "https://localhost:8080/"
        },
        "id": "4BrA1kaY3lrv",
        "outputId": "037f67ce-3638-4ae6-f0ce-05ea34074c7d"
      },
      "execution_count": null,
      "outputs": [
        {
          "output_type": "stream",
          "name": "stdout",
          "text": [
            "[ 1.54795041  0.85620713 -1.14454072 -0.72326967  0.21208467]\n"
          ]
        }
      ]
    },
    {
      "cell_type": "code",
      "source": [
        "# Write a NumPy program to generate six random integers between 10 and 30.\n",
        "gen_integer = np.random.randint(10,30,size=6)\n",
        "print(gen_integer)"
      ],
      "metadata": {
        "colab": {
          "base_uri": "https://localhost:8080/"
        },
        "id": "qO_32JKm5ExF",
        "outputId": "5119cf95-98b7-4676-e6ad-c7b47936ae45"
      },
      "execution_count": null,
      "outputs": [
        {
          "output_type": "stream",
          "name": "stdout",
          "text": [
            "[14 25 22 12 16 17]\n"
          ]
        }
      ]
    },
    {
      "cell_type": "code",
      "source": [
        "# Write a NumPy program to create a 3x3x3 array with random values.\n",
        "ran_matrix = np.random.random((3,3,3))\n",
        "print(ran_matrix)"
      ],
      "metadata": {
        "colab": {
          "base_uri": "https://localhost:8080/"
        },
        "id": "6LiKQX7-6DVL",
        "outputId": "2cbe204d-a4aa-463a-956f-21d0d4e7b86f"
      },
      "execution_count": null,
      "outputs": [
        {
          "output_type": "stream",
          "name": "stdout",
          "text": [
            "[[[0.90096401 0.32188818 0.05079261]\n",
            "  [0.62109843 0.18421542 0.24954138]\n",
            "  [0.81774163 0.71110195 0.15850014]]\n",
            "\n",
            " [[0.26127673 0.01435403 0.18917779]\n",
            "  [0.47459603 0.78081874 0.33944391]\n",
            "  [0.13223711 0.8331931  0.38771863]]\n",
            "\n",
            " [[0.00370068 0.64720536 0.57665839]\n",
            "  [0.95783876 0.42366142 0.38794702]\n",
            "  [0.60200384 0.03435543 0.85059183]]]\n"
          ]
        }
      ]
    },
    {
      "cell_type": "code",
      "source": [
        "# Write a NumPy program to create a 5x5 array with random values and find the minimum and maximum values.\n",
        "find_5 = np.random.random((5,5))\n",
        "print(find_5)\n",
        "print(\"maximum :\",np.max(find_5))\n",
        "print(\"minimum :\",np.min(find_5))"
      ],
      "metadata": {
        "colab": {
          "base_uri": "https://localhost:8080/"
        },
        "id": "9rvkPmpd663c",
        "outputId": "59a47b27-3026-4ba0-c15a-963b3e8a3f08"
      },
      "execution_count": null,
      "outputs": [
        {
          "output_type": "stream",
          "name": "stdout",
          "text": [
            "[[0.31893568 0.33236267 0.24268656 0.63897769 0.3345668 ]\n",
            " [0.4076128  0.922496   0.37797249 0.10917458 0.52784491]\n",
            " [0.63695103 0.98315393 0.48833996 0.1433278  0.13599615]\n",
            " [0.70513168 0.8116572  0.96116872 0.36897598 0.46876961]\n",
            " [0.26555315 0.00368042 0.72531143 0.42013155 0.85620609]]\n",
            "maximum : 0.9831539332582753\n",
            "minimum : 0.0036804172150376457\n"
          ]
        }
      ]
    },
    {
      "cell_type": "code",
      "source": [
        "# Write a NumPy program to create a random 10x4 array and extract the first five rows of the array and store them into a variable.\n",
        "extract_val = np.random.random((10,4))\n",
        "print(extract_val)\n",
        "find_f5 = extract_val[:5,:]\n",
        "print(\"first 5 row : \",find_5)"
      ],
      "metadata": {
        "colab": {
          "base_uri": "https://localhost:8080/"
        },
        "id": "zUHvcH1v98P7",
        "outputId": "0dd36b61-6241-4891-ca88-484a59523d42"
      },
      "execution_count": null,
      "outputs": [
        {
          "output_type": "stream",
          "name": "stdout",
          "text": [
            "[[0.61427101 0.21840578 0.24132418 0.10609524]\n",
            " [0.2298984  0.81566034 0.06463015 0.50636219]\n",
            " [0.72247932 0.98366997 0.75639198 0.74069992]\n",
            " [0.15839685 0.60970977 0.01637745 0.41484921]\n",
            " [0.2765542  0.15484927 0.23733642 0.67237732]\n",
            " [0.96288455 0.66142712 0.71767507 0.7497962 ]\n",
            " [0.35107099 0.62370883 0.0072425  0.79146058]\n",
            " [0.7295995  0.07500068 0.25615441 0.08079941]\n",
            " [0.45741909 0.70933291 0.19470218 0.49216824]\n",
            " [0.52061633 0.20715739 0.05352911 0.37175067]]\n",
            "first 5 row :  [[0.31893568 0.33236267 0.24268656 0.63897769 0.3345668 ]\n",
            " [0.4076128  0.922496   0.37797249 0.10917458 0.52784491]\n",
            " [0.63695103 0.98315393 0.48833996 0.1433278  0.13599615]\n",
            " [0.70513168 0.8116572  0.96116872 0.36897598 0.46876961]\n",
            " [0.26555315 0.00368042 0.72531143 0.42013155 0.85620609]]\n"
          ]
        }
      ]
    },
    {
      "cell_type": "code",
      "source": [
        "#  Write a NumPy program to shuffle numbers between 0 and 10 (inclusive).\n",
        "shuff_num = np.arange(10)\n",
        "print(\"before shuffle : \",shuff_num)\n",
        "np.random.shuffle(shuff_num)\n",
        "print(\"after shuffle : \",np.random.permutation(shuff_num))\n"
      ],
      "metadata": {
        "colab": {
          "base_uri": "https://localhost:8080/"
        },
        "id": "-tyYbAKvGIZg",
        "outputId": "ac35a234-3b2b-4e76-b278-be59007aea3f"
      },
      "execution_count": null,
      "outputs": [
        {
          "output_type": "stream",
          "name": "stdout",
          "text": [
            "before shuffle :  [0 1 2 3 4 5 6 7 8 9]\n",
            "after shuffle :  [0 2 6 1 4 7 9 5 8 3]\n"
          ]
        }
      ]
    },
    {
      "cell_type": "code",
      "source": [
        "# Write a NumPy program to normalize a 3x3 random matrix.\n",
        "nor_mat = np.random.random([3,3])\n",
        "print(nor_mat)\n",
        "max_val =np.max(nor_mat)\n",
        "min_val =np.min(nor_mat)\n",
        "print(\"max :\",max_val)\n",
        "print(\"min :\",min_val)\n",
        "print(\"after normal :\",(nor_mat- min_val)/(max_val - min_val))"
      ],
      "metadata": {
        "colab": {
          "base_uri": "https://localhost:8080/"
        },
        "id": "v6b4ovzWIQz2",
        "outputId": "aa1eb6a8-24c8-4ece-ed40-a014d9e7c5be"
      },
      "execution_count": null,
      "outputs": [
        {
          "output_type": "stream",
          "name": "stdout",
          "text": [
            "[[0.53209261 0.01351076 0.89219193]\n",
            " [0.71618662 0.37715481 0.41118716]\n",
            " [0.54163397 0.84307041 0.56835811]]\n",
            "max : 0.8921919319471824\n",
            "min : 0.013510755218198667\n",
            "after normal : [[0.59018205 0.         1.        ]\n",
            " [0.79969377 0.41385211 0.45258327]\n",
            " [0.60104078 0.94409631 0.6314547 ]]\n"
          ]
        }
      ]
    },
    {
      "cell_type": "code",
      "source": [
        "# Write a NumPy program to create a random vector of size 10 and sort it.\n",
        "ran_vec = np.random.random(size=10)\n",
        "print(\"random_vector : \",ran_vec)\n",
        "do_sort = np.sort(ran_vec)\n",
        "print(\"After sorting : \",do_sort)"
      ],
      "metadata": {
        "colab": {
          "base_uri": "https://localhost:8080/"
        },
        "id": "y2MtS601LTfN",
        "outputId": "b70bb8e5-cea9-4e27-cb40-ec92980ebd30"
      },
      "execution_count": null,
      "outputs": [
        {
          "output_type": "stream",
          "name": "stdout",
          "text": [
            "random_vector :  [0.12517496 0.26016292 0.33436254 0.71451775 0.13999582 0.35069506\n",
            " 0.0717224  0.35266379 0.53017579 0.80986417]\n",
            "After sorting :  [0.0717224  0.12517496 0.13999582 0.26016292 0.33436254 0.35069506\n",
            " 0.35266379 0.53017579 0.71451775 0.80986417]\n"
          ]
        }
      ]
    },
    {
      "cell_type": "code",
      "source": [
        "# Write a NumPy program to find the nearest value from a given value in an array.\n",
        "find_near = np.random.uniform(1,22,5)\n",
        "print(find_near)\n",
        "val = 4\n",
        "find_near_val = find_near.flat[np.abs(find_near - val).argmin()]\n",
        "print(\"nearest value : \" ,find_near_val)\n"
      ],
      "metadata": {
        "colab": {
          "base_uri": "https://localhost:8080/"
        },
        "id": "1bI8gh7IMM4l",
        "outputId": "45f71ca3-8a24-4193-9d6c-1b249421f5ee"
      },
      "execution_count": null,
      "outputs": [
        {
          "output_type": "stream",
          "name": "stdout",
          "text": [
            "[10.85258454 13.45782438 16.30555101 12.609702   12.00645481]\n",
            "nearest value :  10.852584537150646\n"
          ]
        }
      ]
    },
    {
      "cell_type": "code",
      "source": [
        "# Write a NumPy program to check two random arrays are equal or not.\n",
        "arr1 = np.random.randint(1,5,4)\n",
        "arr2 = np.random.randint(1,5,4)\n",
        "print(arr1)\n",
        "print(arr2)\n",
        "print(np.allclose(arr1,arr2))"
      ],
      "metadata": {
        "colab": {
          "base_uri": "https://localhost:8080/"
        },
        "id": "qXXY3nf1P5g8",
        "outputId": "80ed8282-aea0-4e9d-b029-ffef23158a0f"
      },
      "execution_count": null,
      "outputs": [
        {
          "output_type": "stream",
          "name": "stdout",
          "text": [
            "[3 1 3 4]\n",
            "[3 1 2 2]\n",
            "False\n"
          ]
        }
      ]
    },
    {
      "cell_type": "code",
      "source": [
        "# Write a NumPy program to create random vector of size 15 and replace the maximum value by -1.\n",
        "replace_with_max = np.random.random(15)\n",
        "print(\"random vector :\",replace_with_max)\n",
        "replace_with_max[replace_with_max.argmax()] = -1\n",
        "print(\"after replace with -1 :\",replace_with_max)\n"
      ],
      "metadata": {
        "colab": {
          "base_uri": "https://localhost:8080/"
        },
        "id": "PRuqctfTUoZc",
        "outputId": "d2c3f1a9-f880-45d3-8db8-63e7d418e3d7"
      },
      "execution_count": null,
      "outputs": [
        {
          "output_type": "stream",
          "name": "stdout",
          "text": [
            "random vector : [0.46107368 0.77305142 0.89466258 0.77873275 0.56580255 0.15528971\n",
            " 0.53000827 0.75400826 0.77223977 0.83676278 0.7122719  0.7796667\n",
            " 0.51007472 0.38997438 0.46120314]\n",
            "after replace with -1 : [ 0.46107368  0.77305142 -1.          0.77873275  0.56580255  0.15528971\n",
            "  0.53000827  0.75400826  0.77223977  0.83676278  0.7122719   0.7796667\n",
            "  0.51007472  0.38997438  0.46120314]\n"
          ]
        }
      ]
    },
    {
      "cell_type": "code",
      "source": [
        "# Write a NumPy program to find the most frequent value in an array.\n",
        "find_frequent = np.random.randint(0,10,40)\n",
        "print(\"Frequent array :\",find_frequent)\n",
        "find_fre_val = np.bincount(find_frequent).argmax()\n",
        "print(\"most frequent value :\",find_fre_val)"
      ],
      "metadata": {
        "colab": {
          "base_uri": "https://localhost:8080/"
        },
        "id": "gcsLva-e2p5u",
        "outputId": "c53b7554-a015-4665-9b1e-fdb59ae28017"
      },
      "execution_count": null,
      "outputs": [
        {
          "output_type": "stream",
          "name": "stdout",
          "text": [
            "Frequent array : [8 6 9 0 5 5 7 8 5 5 0 3 1 3 3 5 5 4 4 4 0 0 4 6 2 7 8 6 9 7 3 6 5 4 7 3 4\n",
            " 7 1 5]\n",
            "most frequent value : 5\n"
          ]
        }
      ]
    },
    {
      "cell_type": "code",
      "source": [
        "# Write a NumPy program to convert cartesian coordinates to polar coordinates of a random 10x2 matrix representing cartesian coordinates.\n",
        "find_carte = np.random.random((10,2))\n",
        "print(\"cartesian : \",find_carte)\n",
        "x,y = find_carte[:,0],find_carte[:,1]\n",
        "sq = np.sqrt(x**2 + y**2)\n",
        "pol = np.arctan2(y,x)\n",
        "print(\"Polar : \",pol)\n"
      ],
      "metadata": {
        "colab": {
          "base_uri": "https://localhost:8080/"
        },
        "id": "g6Rb18NM3yL_",
        "outputId": "6b0dc9c5-cb19-4998-b9d9-7026818f1cc4"
      },
      "execution_count": null,
      "outputs": [
        {
          "output_type": "stream",
          "name": "stdout",
          "text": [
            "cartesian :  [[0.91602539 0.2574379 ]\n",
            " [0.58584233 0.09788472]\n",
            " [0.44719458 0.73910248]\n",
            " [0.69654897 0.54554512]\n",
            " [0.0389996  0.52390283]\n",
            " [0.69447603 0.90757974]\n",
            " [0.26103643 0.61133236]\n",
            " [0.44538684 0.89466699]\n",
            " [0.86845104 0.95884963]\n",
            " [0.68791087 0.68238475]]\n",
            "Polar :  [0.27397094 0.16555443 1.02667124 0.66441986 1.49649285 0.91764075\n",
            " 1.16723632 1.10889091 0.83482897 0.78136539]\n"
          ]
        }
      ]
    },
    {
      "cell_type": "code",
      "source": [
        "# Write a NumPy program to find the closest value (to a given scalar) in an array.\n",
        "array_val=np.random.randint(0,100,40)\n",
        "print(\"original val :\",array_val)\n",
        "val_to_compare = np.random.randint(1,100)\n",
        "print(\"value to compare :\",val_to_compare)\n",
        "nearest = (np.abs(array_val - val_to_compare)).argmin()\n",
        "print(nearest)\n",
        "print(\"nearest value is. : \",array_val[nearest])"
      ],
      "metadata": {
        "colab": {
          "base_uri": "https://localhost:8080/"
        },
        "id": "wWwheca-7dpD",
        "outputId": "18189f87-1205-44e2-8186-c9522b99818c"
      },
      "execution_count": null,
      "outputs": [
        {
          "output_type": "stream",
          "name": "stdout",
          "text": [
            "original val : [65 53 74 89 65  6 27 13 82 82 62 53 30 35 41 22 70 95 82 20 69 73 52 28\n",
            " 54 84 19 71 61  4 23 91 77 56  8  0 65 59 66 49]\n",
            "value to compare : 72\n",
            "21\n",
            "nearest value is. :  73\n"
          ]
        }
      ]
    },
    {
      "cell_type": "code",
      "source": [
        "# Write a NumPy program to get the n largest values of an array.\n",
        "find_large = np.random.randint(0,20,9)\n",
        "print(\"find largest value :\",find_large)\n",
        "large_val = np.argmax(find_large)\n",
        "print(\"large value :\",find_large[large_val])"
      ],
      "metadata": {
        "colab": {
          "base_uri": "https://localhost:8080/"
        },
        "id": "FLzTIfnx971N",
        "outputId": "88819198-5484-4abf-e615-5ffd35f84a2f"
      },
      "execution_count": null,
      "outputs": [
        {
          "output_type": "stream",
          "name": "stdout",
          "text": [
            "find largest value : [ 4  5  6  7 15  5 19  1 18]\n",
            "large value : 19\n"
          ]
        }
      ]
    },
    {
      "cell_type": "code",
      "source": [
        "# Write a NumPy program to create a three-dimension array with shape (300,400,5) and set to a variable. Fill the array elements with values using unsigned integer (0 to 255).\n",
        "np.random.seed(32)\n",
        "num = np.random.randint(low =0,high=256,size=(300,400,5),dtype=np.uint8)\n",
        "print(num)\n"
      ],
      "metadata": {
        "colab": {
          "base_uri": "https://localhost:8080/"
        },
        "id": "GNLq77oh_ZG5",
        "outputId": "5e41a2a5-0527-41ef-e03c-77ff4d0206d8"
      },
      "execution_count": null,
      "outputs": [
        {
          "output_type": "stream",
          "name": "stdout",
          "text": [
            "[[[215  42 224 219  43]\n",
            "  [166  69  15 133 255]\n",
            "  [105  95  54  37 201]\n",
            "  ...\n",
            "  [240  22  66 232 132]\n",
            "  [ 13  85  53 220 170]\n",
            "  [249  62 221 146  69]]\n",
            "\n",
            " [[ 73  79 148 132 164]\n",
            "  [  3  93  98 138 200]\n",
            "  [174  34  31 208 130]\n",
            "  ...\n",
            "  [ 15 252  41  64  39]\n",
            "  [188 216 223 124  27]\n",
            "  [ 85 112 240 116 231]]\n",
            "\n",
            " [[227  50 243  20 171]\n",
            "  [ 12  66 108 102  63]\n",
            "  [107  54   0   0 173]\n",
            "  ...\n",
            "  [215  46  57  99 151]\n",
            "  [243 199  31  28 179]\n",
            "  [143   7  30 175 190]]\n",
            "\n",
            " ...\n",
            "\n",
            " [[214  64  64 212  62]\n",
            "  [140  44 217  17 164]\n",
            "  [226 146 247  53 199]\n",
            "  ...\n",
            "  [189  68  49 117  63]\n",
            "  [ 14  17 109  82  92]\n",
            "  [155 221 135 184 231]]\n",
            "\n",
            " [[132 194 160 136 102]\n",
            "  [132 244 230 117 181]\n",
            "  [146 245  21 164  29]\n",
            "  ...\n",
            "  [125 240 243 190 240]\n",
            "  [137  41 157 117 155]\n",
            "  [ 20  92  72 182  41]]\n",
            "\n",
            " [[120  45 198 218 190]\n",
            "  [ 42 150 190 103 106]\n",
            "  [164  71 220 114  59]\n",
            "  ...\n",
            "  [143  20 219 154  85]\n",
            "  [219 190 170 227 246]\n",
            "  [ 39  14 127 230 158]]]\n"
          ]
        }
      ]
    },
    {
      "cell_type": "markdown",
      "source": [
        "## **Sorting & Searching**"
      ],
      "metadata": {
        "id": "v5DFOyXtEqMP"
      }
    },
    {
      "cell_type": "code",
      "source": [
        "# Write a NumPy program to sort a given array of shape 2 along the first axis, last axis and on flattened array.\n",
        "shape_2 = np.array([[10,40],[30,20]])\n",
        "print(\"original array : \",shape_2 )\n",
        "sort_fist = np.sort(shape_2,axis = 0)\n",
        "print(\"sorted fist axis :\",sort_fist)\n",
        "sort_la = np.sort(shape_2)\n",
        "print(\"Sorted last :\",sort_la)\n",
        "sort_flat = np.sort(shape_2,axis=None)\n",
        "print(\"Sorted flatten : \",sort_flat)"
      ],
      "metadata": {
        "colab": {
          "base_uri": "https://localhost:8080/"
        },
        "id": "xo7zaWalEvo1",
        "outputId": "fe7ed3f2-158c-4f51-9b61-26cce0cbce25"
      },
      "execution_count": null,
      "outputs": [
        {
          "output_type": "stream",
          "name": "stdout",
          "text": [
            "original array :  [[10 40]\n",
            " [30 20]]\n",
            "sorted fist axis : [[10 20]\n",
            " [30 40]]\n",
            "Sorted last : [[10 40]\n",
            " [20 30]]\n",
            "Sorted flatten :  [10 20 30 40]\n"
          ]
        }
      ]
    },
    {
      "cell_type": "code",
      "source": [
        "# Write a NumPy program to create a structured array from given student name, height, class and their data types. Now sort the array on height.\n",
        "data_type = [('sname','S15'),('class','int'),('height','float')]\n",
        "student_detail = [('sam',10,5.12),('sun',11,4.12),('son',12,4.20)]\n",
        "student = np.array(student_detail,dtype = data_type)\n",
        "print(\"Original array : \",student)\n",
        "sort_height = np.sort(student,order='height')\n",
        "print(\"after sort : \",sort_height)"
      ],
      "metadata": {
        "colab": {
          "base_uri": "https://localhost:8080/"
        },
        "id": "QyaxMaYjHX8B",
        "outputId": "89eeb979-d554-4580-b037-a973a2d5e6e7"
      },
      "execution_count": null,
      "outputs": [
        {
          "output_type": "stream",
          "name": "stdout",
          "text": [
            "Original array :  [(b'sam', 10, 5.12) (b'sun', 11, 4.12) (b'son', 12, 4.2 )]\n",
            "after sort :  [(b'sun', 11, 4.12) (b'son', 12, 4.2 ) (b'sam', 10, 5.12)]\n"
          ]
        }
      ]
    },
    {
      "cell_type": "code",
      "source": [
        "# Write a NumPy program to create a structured array from given student name, height, class and their data types. Now sort by class, then height if class are equal.\n",
        "date_type1 = [('name','S15'),('class','int'),('height','float')]\n",
        "student_details = [('cat',8,4.12),('dog',7,3.12),('James', 5, 48.5), ('Nail', 6, 52.5),('Paul', 5, 42.10), ('Pit', 5, 40.11)]\n",
        "students = np.array(student_details,dtype = date_type1)\n",
        "print(\"Original array :\",students)\n",
        "sort_height_class = np.sort(students,order=['class','height'])\n",
        "print(\"After sorting : \",sort_height_class)\n"
      ],
      "metadata": {
        "colab": {
          "base_uri": "https://localhost:8080/"
        },
        "id": "Cdg0Z2NuKJHU",
        "outputId": "d17d4488-8efa-442b-8fac-bb5bf47a01e4"
      },
      "execution_count": null,
      "outputs": [
        {
          "output_type": "stream",
          "name": "stdout",
          "text": [
            "Original array : [(b'cat', 8,  4.12) (b'dog', 7,  3.12) (b'James', 5, 48.5 )\n",
            " (b'Nail', 6, 52.5 ) (b'Paul', 5, 42.1 ) (b'Pit', 5, 40.11)]\n",
            "After sorting :  [(b'Pit', 5, 40.11) (b'Paul', 5, 42.1 ) (b'James', 5, 48.5 )\n",
            " (b'Nail', 6, 52.5 ) (b'dog', 7,  3.12) (b'cat', 8,  4.12)]\n"
          ]
        }
      ]
    },
    {
      "cell_type": "code",
      "source": [
        "# Write a NumPy program to sort the student id with increasing height of the students from given students id and height. Print the integer indices that describes the sort order by multiple columns and the sorted data.\n",
        "\n",
        "student_id = np.array([1023, 5202, 6230, 1671, 1682, 5241, 4532])\n",
        "student_height = np.array([40., 42., 45., 41., 38., 40., 42.0])\n",
        "sort_id = np.lexsort((student_id,student_height)) #to sort index\n",
        "print(\"sorted : \",sort_id)\n",
        "print(\"After sorted heightwise : \")\n",
        "for i in sort_id:\n",
        "  print(student_id[i],student_height[i])\n"
      ],
      "metadata": {
        "colab": {
          "base_uri": "https://localhost:8080/"
        },
        "id": "6kkUYSqeL22t",
        "outputId": "285ca333-aa73-4424-9e89-0b7d62d39706"
      },
      "execution_count": null,
      "outputs": [
        {
          "output_type": "stream",
          "name": "stdout",
          "text": [
            "sorted :  [4 0 5 3 6 1 2]\n",
            "After sorted heightwise : \n",
            "1682 38.0\n",
            "1023 40.0\n",
            "5241 40.0\n",
            "1671 41.0\n",
            "4532 42.0\n",
            "5202 42.0\n",
            "6230 45.0\n"
          ]
        }
      ]
    },
    {
      "cell_type": "code",
      "source": [
        "# Write a NumPy program to get the indices of the sorted elements of a given array.\n",
        "ori_array = np.array([1023,5202,6230,1671,1682,5241,4532])\n",
        "print(\"original array : \",ori_array)\n",
        "sort_ori_array = np.argsort((ori_array))\n",
        "print(\"indices of sorted array : \",sort_ori_array)"
      ],
      "metadata": {
        "colab": {
          "base_uri": "https://localhost:8080/"
        },
        "id": "JSC4d1EcP21s",
        "outputId": "a435a85c-900b-4739-83b9-2de2a119c37c"
      },
      "execution_count": null,
      "outputs": [
        {
          "output_type": "stream",
          "name": "stdout",
          "text": [
            "original array :  [1023 5202 6230 1671 1682 5241 4532]\n",
            "indices of sorted array :  [0 3 4 6 1 5 2]\n"
          ]
        }
      ]
    },
    {
      "cell_type": "code",
      "source": [
        "# Write a NumPy program to sort a given complex array using the real part first, then the imaginary part.\n",
        "comx_num = ([1 + 2j, 3 - 1j, 3 - 2j, 4 - 3j, 3 + 5j])\n",
        "print(\"complex num : \",comx_num)\n",
        "sorted_comx_num = np.sort_complex(comx_num)\n",
        "print(\"sorted complex number : \",sorted_comx_num)"
      ],
      "metadata": {
        "colab": {
          "base_uri": "https://localhost:8080/"
        },
        "id": "MecrzeD1Q9-O",
        "outputId": "753e9665-bab3-457d-cd6b-cac56b2ffff1"
      },
      "execution_count": null,
      "outputs": [
        {
          "output_type": "stream",
          "name": "stdout",
          "text": [
            "complex num :  [(1+2j), (3-1j), (3-2j), (4-3j), (3+5j)]\n",
            "sorted complex number :  [1.+2.j 3.-2.j 3.-1.j 3.+5.j 4.-3.j]\n"
          ]
        }
      ]
    },
    {
      "cell_type": "code",
      "source": [
        "# Write a NumPy program to partition a given array in a specified position and move all the smaller elements values to the left of the partition, and the remaining values to the right, in arbitrary order\n",
        "\n",
        "parti_array = np.array ([70, 50, 20, 30, -11, 60, 50, 40])\n",
        "print(\"original array : \",parti_array)\n",
        "after_part_array =np.partition(parti_array,7)\n",
        "print(\"After parition : \",after_part_array)"
      ],
      "metadata": {
        "colab": {
          "base_uri": "https://localhost:8080/"
        },
        "id": "QpfE8nyUR9bI",
        "outputId": "68b2f64a-cca7-4334-83bc-9a7ddbae74af"
      },
      "execution_count": null,
      "outputs": [
        {
          "output_type": "stream",
          "name": "stdout",
          "text": [
            "original array :  [ 70  50  20  30 -11  60  50  40]\n",
            "After parition :  [-11  30  20  40  50  50  60  70]\n"
          ]
        }
      ]
    },
    {
      "cell_type": "code",
      "source": [
        "# Write a NumPy program to sort the specified number of elements from beginning of a given array.\n",
        "sort_specified_no = np.random.random(size=10)\n",
        "print(\"original array : \",sort_specified_no)\n",
        "after_sort_specified_no = np.sort(sort_specified_no)\n",
        "print(\"After sort : \",after_sort_specified_no)\n",
        "after_sort_specified_no1 = np.argpartition(sort_specified_no,range(5))\n",
        "print(\"aa\",after_sort_specified_no1)"
      ],
      "metadata": {
        "colab": {
          "base_uri": "https://localhost:8080/"
        },
        "id": "an6qzh_6Vck0",
        "outputId": "37ac0747-7765-43c8-9603-c0ce28c28019"
      },
      "execution_count": null,
      "outputs": [
        {
          "output_type": "stream",
          "name": "stdout",
          "text": [
            "original array :  [0.15021275 0.85617794 0.03077153 0.60427646 0.71523263 0.52098538\n",
            " 0.8405356  0.03823842 0.81172066 0.73060203]\n",
            "After sort :  [0.03077153 0.03823842 0.15021275 0.52098538 0.60427646 0.71523263\n",
            " 0.73060203 0.81172066 0.8405356  0.85617794]\n",
            "aa [2 7 0 5 3 4 6 1 8 9]\n"
          ]
        }
      ]
    },
    {
      "cell_type": "code",
      "source": [
        "# Write a NumPy program to sort an given array by the nth column.\n",
        "sort_matrix = np.random.randint(0,10,(3,3))\n",
        "print(\"original matrix : \",sort_matrix)\n",
        "after_sort_matrix = sort_matrix[sort_matrix[:,2].argsort()]\n",
        "print(\"After sorting : \",after_sort_matrix)"
      ],
      "metadata": {
        "colab": {
          "base_uri": "https://localhost:8080/"
        },
        "id": "iDsN9tsDWnwl",
        "outputId": "081a2128-196a-472b-e07e-fa89663ba7d9"
      },
      "execution_count": null,
      "outputs": [
        {
          "output_type": "stream",
          "name": "stdout",
          "text": [
            "original matrix :  [[1 1 8]\n",
            " [8 4 9]\n",
            " [2 6 6]]\n",
            "After sorting :  [[2 6 6]\n",
            " [1 1 8]\n",
            " [8 4 9]]\n"
          ]
        }
      ]
    },
    {
      "cell_type": "markdown",
      "source": [
        "## **DateTime**"
      ],
      "metadata": {
        "id": "G6aLjJ5ks2NS"
      }
    },
    {
      "cell_type": "code",
      "source": [
        "# Write a NumPy program to display all the dates for the month of March, 2017.\n",
        "display_date = np.arange('2023-03','2023-04',dtype = 'datetime64[D]')\n",
        "print(\"March 2023 : \",display_date)"
      ],
      "metadata": {
        "colab": {
          "base_uri": "https://localhost:8080/"
        },
        "id": "ocP59Soqs65s",
        "outputId": "6f614da5-5658-44d0-b833-497c87a3af8f"
      },
      "execution_count": null,
      "outputs": [
        {
          "output_type": "stream",
          "name": "stdout",
          "text": [
            "March 2023 :  ['2023-03-01' '2023-03-02' '2023-03-03' '2023-03-04' '2023-03-05'\n",
            " '2023-03-06' '2023-03-07' '2023-03-08' '2023-03-09' '2023-03-10'\n",
            " '2023-03-11' '2023-03-12' '2023-03-13' '2023-03-14' '2023-03-15'\n",
            " '2023-03-16' '2023-03-17' '2023-03-18' '2023-03-19' '2023-03-20'\n",
            " '2023-03-21' '2023-03-22' '2023-03-23' '2023-03-24' '2023-03-25'\n",
            " '2023-03-26' '2023-03-27' '2023-03-28' '2023-03-29' '2023-03-30'\n",
            " '2023-03-31']\n"
          ]
        }
      ]
    },
    {
      "cell_type": "code",
      "source": [
        "# Write a NumPy program to get the dates of yesterday, today and tomorrow.\n",
        "find_yester = np.datetime64('Today','D') - np.timedelta64(1,'D')\n",
        "print(\"Yesterday : \",find_yester)\n",
        "find_today = np.datetime64('Today','D')\n",
        "print(\"Today : \",find_today)\n",
        "find_tomo = np.datetime64('Today','D') + np.timedelta64(1,'D')\n",
        "print(\"Tomorrow : \",find_tomo)"
      ],
      "metadata": {
        "colab": {
          "base_uri": "https://localhost:8080/"
        },
        "id": "22AdmPUoufVt",
        "outputId": "adb935a3-9ecf-4a5e-d95f-a168d66b3f1d"
      },
      "execution_count": null,
      "outputs": [
        {
          "output_type": "stream",
          "name": "stdout",
          "text": [
            "Yesterday :  2023-10-18\n",
            "Today :  2023-10-19\n",
            "Tomorrow :  2023-10-20\n"
          ]
        }
      ]
    },
    {
      "cell_type": "code",
      "source": [
        "# Write a NumPy program to count the number of days of specific month.\n",
        "find_no_days = np.datetime64('2023-06-01') - np.datetime64('2023-05-01')\n",
        "print(\"NO of days : \",find_no_days)"
      ],
      "metadata": {
        "colab": {
          "base_uri": "https://localhost:8080/"
        },
        "id": "V5xGWGw5wa3s",
        "outputId": "a51a97fa-61df-42a4-ef38-7e228d94c6eb"
      },
      "execution_count": null,
      "outputs": [
        {
          "output_type": "stream",
          "name": "stdout",
          "text": [
            "NO of days :  31 days\n"
          ]
        }
      ]
    }
  ]
}