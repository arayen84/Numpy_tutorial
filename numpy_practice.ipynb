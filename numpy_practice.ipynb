{
  "nbformat": 4,
  "nbformat_minor": 0,
  "metadata": {
    "colab": {
      "provenance": [],
      "authorship_tag": "ABX9TyM8UFtUUJk7hYcRn4Ebc1zj",
      "include_colab_link": true
    },
    "kernelspec": {
      "name": "python3",
      "display_name": "Python 3"
    },
    "language_info": {
      "name": "python"
    }
  },
  "cells": [
    {
      "cell_type": "markdown",
      "metadata": {
        "id": "view-in-github",
        "colab_type": "text"
      },
      "source": [
        "<a href=\"https://colab.research.google.com/github/arayen84/Numpy_tutorial/blob/main/numpy_practice.ipynb\" target=\"_parent\"><img src=\"https://colab.research.google.com/assets/colab-badge.svg\" alt=\"Open In Colab\"/></a>"
      ]
    },
    {
      "cell_type": "code",
      "execution_count": null,
      "metadata": {
        "id": "XUJ6YO2VsDPo"
      },
      "outputs": [],
      "source": [
        "import numpy as np\n"
      ]
    },
    {
      "cell_type": "code",
      "source": [
        "# to build 1D numpy array with value\n",
        "x=np.arange(1,11)\n",
        "print(x)\n"
      ],
      "metadata": {
        "colab": {
          "base_uri": "https://localhost:8080/"
        },
        "id": "zjo22rUpsikM",
        "outputId": "49c6158b-4967-4faa-8d48-be02d911e7ae"
      },
      "execution_count": null,
      "outputs": [
        {
          "output_type": "stream",
          "name": "stdout",
          "text": [
            "[ 1  2  3  4  5  6  7  8  9 10]\n"
          ]
        }
      ]
    },
    {
      "cell_type": "code",
      "source": [
        "# do element-wise operation\n",
        "\n",
        "x1=np.array([2,4,6,8])\n",
        "x2=np.array([1,2,3,4])\n",
        "x3 = np.add(x1,x2)\n",
        "x4 = np.multiply(x1,x2)\n",
        "print(x3)\n",
        "print(x4)"
      ],
      "metadata": {
        "colab": {
          "base_uri": "https://localhost:8080/"
        },
        "id": "v5it6r7RtRCj",
        "outputId": "a67984c9-12e1-4dbf-de25-b1f02c3abd88"
      },
      "execution_count": null,
      "outputs": [
        {
          "output_type": "stream",
          "name": "stdout",
          "text": [
            "[ 3  6  9 12]\n",
            "[ 2  8 18 32]\n"
          ]
        }
      ]
    },
    {
      "cell_type": "code",
      "source": [
        "# reshaping array\n",
        "\n",
        "x6 = x.reshape(2,5)\n",
        "print(x6)"
      ],
      "metadata": {
        "colab": {
          "base_uri": "https://localhost:8080/"
        },
        "id": "gLJtOegyt53d",
        "outputId": "f4ae0d75-5862-40ae-a4b2-d14c7470995a"
      },
      "execution_count": null,
      "outputs": [
        {
          "output_type": "stream",
          "name": "stdout",
          "text": [
            "[[ 1  2  3  4  5]\n",
            " [ 6  7  8  9 10]]\n"
          ]
        }
      ]
    },
    {
      "cell_type": "code",
      "source": [
        "# Finding statistic\n",
        "\n",
        "d1 = np.array([1,2,3,4,5,6,7,8,9,10])\n",
        "mean = np.mean(d1)\n",
        "print(\"mean :\",mean)\n",
        "st=np.std(d1)\n",
        "print(\"Standard deviation :\",st)"
      ],
      "metadata": {
        "colab": {
          "base_uri": "https://localhost:8080/"
        },
        "id": "EjAvImm2vNzS",
        "outputId": "cd2e14c5-fef4-4b29-dab7-163867db1f26"
      },
      "execution_count": null,
      "outputs": [
        {
          "output_type": "stream",
          "name": "stdout",
          "text": [
            "mean : 5.5\n",
            "Standard deviation : 2.8722813232690143\n"
          ]
        }
      ]
    },
    {
      "cell_type": "code",
      "source": [
        "# concatenation\n",
        "\n",
        "d2 = np.array([9,8,6])\n",
        "d3 = np.array([3,22,11])\n",
        "vd2 = np.vstack([d2,d3])\n",
        "print(\"vertical stack : \",vd2)\n",
        "\n",
        "print(\"----------------\")\n",
        "hd3 = np.hstack([d3,d3])\n",
        "print(\"Horizantal stack :\",hd3)"
      ],
      "metadata": {
        "colab": {
          "base_uri": "https://localhost:8080/"
        },
        "id": "Diei6s3dv1F7",
        "outputId": "89c5fe48-8af3-406b-ac60-25e790d69c0b"
      },
      "execution_count": null,
      "outputs": [
        {
          "output_type": "stream",
          "name": "stdout",
          "text": [
            "vertical stack :  [[ 9  8  6]\n",
            " [ 3 22 11]]\n",
            "----------------\n",
            "Horizantal stack : [ 3 22 11  3 22 11]\n"
          ]
        }
      ]
    },
    {
      "cell_type": "code",
      "source": [
        "# slicing & indexing\n",
        "\n",
        "d4 = np.array([11, 22, 33, 44, 55, 66, 77, 88, 99,2,1,10])\n",
        "d5 = d4[3:7]\n",
        "print(d5)"
      ],
      "metadata": {
        "colab": {
          "base_uri": "https://localhost:8080/"
        },
        "id": "tO7wYqjzw6QH",
        "outputId": "06f68923-eb8b-49bb-ec67-8fd03cd6381f"
      },
      "execution_count": null,
      "outputs": [
        {
          "output_type": "stream",
          "name": "stdout",
          "text": [
            "[44 55 66 77]\n"
          ]
        }
      ]
    },
    {
      "cell_type": "code",
      "source": [
        "# universal function\n",
        "# add 5 to each score using a NumPy ufunc\n",
        "\n",
        "d6 = np.array([50,60,75,80,91])\n",
        "d7 = np.add(d6,5)\n",
        "print(\"After added 5 :\",d7)"
      ],
      "metadata": {
        "colab": {
          "base_uri": "https://localhost:8080/"
        },
        "id": "Sv34ALFsxkT1",
        "outputId": "37549257-434c-430c-c4d7-7dd80abb9784"
      },
      "execution_count": null,
      "outputs": [
        {
          "output_type": "stream",
          "name": "stdout",
          "text": [
            "After added 5 : [55 65 80 85 96]\n"
          ]
        }
      ]
    },
    {
      "cell_type": "code",
      "source": [
        "# masked array\n",
        "# masked array from a NumPy array where values less than 3 are masked.\n",
        "\n",
        "import numpy.ma as ma\n",
        "d8 = ma.masked_less(d4,33)\n",
        "print(d8)"
      ],
      "metadata": {
        "colab": {
          "base_uri": "https://localhost:8080/"
        },
        "id": "XLxBWdBOx-jm",
        "outputId": "4fc1cf67-b6a4-44c3-9eb2-d1fab0ec9a6d"
      },
      "execution_count": null,
      "outputs": [
        {
          "output_type": "stream",
          "name": "stdout",
          "text": [
            "[-- -- 33 44 55 66 77 88 99 -- -- --]\n"
          ]
        }
      ]
    },
    {
      "cell_type": "code",
      "source": [
        "# Finding maximum & minimum\n",
        "\n",
        "m1 = np.max(d4)\n",
        "print(\"maximum : \",m1)\n",
        "print(\"---------\")\n",
        "m2 = np.min(d4)\n",
        "print(\"minimum :\",m2)\n",
        "print(\"---------\")\n",
        "m3 = np.argmax(d4)\n",
        "print(\"argmax :\",m3)\n",
        "print(\"----------\")\n",
        "m4 = np.argmin(d4)\n",
        "print(\"argmin :\",m4)\n"
      ],
      "metadata": {
        "colab": {
          "base_uri": "https://localhost:8080/"
        },
        "id": "ZrYMkq4dy9jE",
        "outputId": "78d97b4b-e9ab-4687-b6c0-c5b51c2cea76"
      },
      "execution_count": null,
      "outputs": [
        {
          "output_type": "stream",
          "name": "stdout",
          "text": [
            "maximum :  99\n",
            "---------\n",
            "minimum : 1\n",
            "---------\n",
            "argmax : 8\n",
            "----------\n",
            "argmin : 10\n"
          ]
        }
      ]
    },
    {
      "cell_type": "code",
      "source": [
        "# Conditional Selection\n",
        "# select all values greater than 7.\n",
        "\n",
        "value = d4[d4>50]\n",
        "print(\"Values grater than 50 :\",value)"
      ],
      "metadata": {
        "colab": {
          "base_uri": "https://localhost:8080/"
        },
        "id": "cBfNf6jWz0TO",
        "outputId": "fd769d29-5af9-4a96-dd26-c9774440036d"
      },
      "execution_count": null,
      "outputs": [
        {
          "output_type": "stream",
          "name": "stdout",
          "text": [
            "Values grater than 50 : [55 66 77 88 99]\n"
          ]
        }
      ]
    },
    {
      "cell_type": "code",
      "source": [
        "# creating empty & full numpy array\n",
        "\n",
        "v = np.empty([4,2])\n",
        "print(\" create empty :\" ,v)\n",
        "print(\"--------\")\n",
        "v1 = np.full([4,3],92)\n",
        "print(\"create full : \",v1)"
      ],
      "metadata": {
        "colab": {
          "base_uri": "https://localhost:8080/"
        },
        "id": "0XWidmwM8TzG",
        "outputId": "a35717b9-4656-4af9-aa08-7d9890d29e97"
      },
      "execution_count": null,
      "outputs": [
        {
          "output_type": "stream",
          "name": "stdout",
          "text": [
            " create empty : [[4.87013449e-310 0.00000000e+000]\n",
            " [0.00000000e+000 0.00000000e+000]\n",
            " [0.00000000e+000 0.00000000e+000]\n",
            " [0.00000000e+000 0.00000000e+000]]\n",
            "--------\n",
            "create full :  [[92 92 92]\n",
            " [92 92 92]\n",
            " [92 92 92]\n",
            " [92 92 92]]\n"
          ]
        }
      ]
    },
    {
      "cell_type": "code",
      "source": [
        "# Filled with all zeros\n",
        "v2 = np.zeros((3,4), dtype=int)\n",
        "print(v2)\n",
        "v2a = np.zeros((5,6),dtype=float)\n",
        "print(v2a)\n"
      ],
      "metadata": {
        "colab": {
          "base_uri": "https://localhost:8080/"
        },
        "id": "rwhfxJqm-YEz",
        "outputId": "527e8a1c-8ded-4b7e-c6ee-07ce5ff063d1"
      },
      "execution_count": null,
      "outputs": [
        {
          "output_type": "stream",
          "name": "stdout",
          "text": [
            "[[0 0 0 0]\n",
            " [0 0 0 0]\n",
            " [0 0 0 0]]\n",
            "[[0. 0. 0. 0. 0. 0.]\n",
            " [0. 0. 0. 0. 0. 0.]\n",
            " [0. 0. 0. 0. 0. 0.]\n",
            " [0. 0. 0. 0. 0. 0.]\n",
            " [0. 0. 0. 0. 0. 0.]]\n"
          ]
        }
      ]
    },
    {
      "cell_type": "code",
      "source": [
        "# Filled with ones\n",
        "v3 = np.ones([4,4] , dtype=int)\n",
        "print(v3)"
      ],
      "metadata": {
        "colab": {
          "base_uri": "https://localhost:8080/"
        },
        "id": "Nw1bby5jA5dn",
        "outputId": "ee3b2980-4a3a-4fe1-f350-41d38a251b0a"
      },
      "execution_count": null,
      "outputs": [
        {
          "output_type": "stream",
          "name": "stdout",
          "text": [
            "[[1 1 1 1]\n",
            " [1 1 1 1]\n",
            " [1 1 1 1]\n",
            " [1 1 1 1]]\n"
          ]
        }
      ]
    },
    {
      "cell_type": "code",
      "source": [
        "# find contains specified row\n",
        "v4 = np.array([[1,2,3,4,5],[6,7,8,9],[11,12,13,14,15],[16,17,18,19,20]])\n",
        "print([1,2,3,4,5] in v4.tolist())\n",
        "print([16,17,18,19,20] in v4.tolist())\n",
        "print([23,43,99,1] in v4.tolist())"
      ],
      "metadata": {
        "colab": {
          "base_uri": "https://localhost:8080/"
        },
        "id": "Ga64yX-8BHhN",
        "outputId": "91a1b6cb-39dd-4bd1-808f-2525dcb02dba"
      },
      "execution_count": null,
      "outputs": [
        {
          "output_type": "stream",
          "name": "stdout",
          "text": [
            "True\n",
            "True\n",
            "False\n"
          ]
        },
        {
          "output_type": "stream",
          "name": "stderr",
          "text": [
            "<ipython-input-85-6736d3827344>:2: VisibleDeprecationWarning: Creating an ndarray from ragged nested sequences (which is a list-or-tuple of lists-or-tuples-or ndarrays with different lengths or shapes) is deprecated. If you meant to do this, you must specify 'dtype=object' when creating the ndarray.\n",
            "  v4 = np.array([[1,2,3,4,5],[6,7,8,9],[11,12,13,14,15],[16,17,18,19,20]])\n"
          ]
        }
      ]
    },
    {
      "cell_type": "code",
      "source": [
        "# remove non numeric value\n",
        "#v5 = np.array([[1,2,3,4,5],[6,\"np.nan\",\"np.nan\"]])\n",
        "#v55 = np.array([np.nan if not str(e).replace(\".\",\"\",1).isdigit() else float(e) for e in v5.flat], dtype=float).reshape(v5.shape)\n",
        "#cleaned_data = v55[~np.isnan(v55).any(axis=1)]\n",
        "\n",
        "\n",
        "\n",
        "\n",
        "\n",
        "\n",
        "\n"
      ],
      "metadata": {
        "id": "IYxYJU9VEcO6"
      },
      "execution_count": null,
      "outputs": []
    },
    {
      "cell_type": "code",
      "source": [
        "# squeeze in python\n",
        "# to remove the single-dimention of array\n",
        "before_squeeze = np.array([[[1,2,3,4],[5,6,7,8],[9,8,4,3]]])\n",
        "print(\"shape before squeeze : \",before_squeeze.shape)\n",
        "print(\"-----------------\")\n",
        "after_squeeze = np.squeeze(before_squeeze)\n",
        "print(\"After squeeze : \",after_squeeze)\n",
        "print(\"shape after squeeze : \",after_squeeze.shape)\n"
      ],
      "metadata": {
        "colab": {
          "base_uri": "https://localhost:8080/"
        },
        "id": "FIj0yQBZdqy0",
        "outputId": "67338d05-3dce-4449-e9fb-a156961d741a"
      },
      "execution_count": null,
      "outputs": [
        {
          "output_type": "stream",
          "name": "stdout",
          "text": [
            "shape before squeeze :  (1, 3, 4)\n",
            "-----------------\n",
            "After squeeze :  [[1 2 3 4]\n",
            " [5 6 7 8]\n",
            " [9 8 4 3]]\n",
            "shape after squeeze :  (3, 4)\n"
          ]
        }
      ]
    },
    {
      "cell_type": "code",
      "source": [
        "# find the no of occurences\n",
        "given_array = np.array([[2, 8, 9, 4],[9, 4, 9, 4],[4, 5, 9, 7], [2, 9, 4, 3]])\n",
        "subarray_to_find =[9,4]\n",
        "find_occ = sum(1 for row in given_array if np.array_equal(row, subarray_to_find))\n",
        "print(\"find occurence :\" ,find_occ)"
      ],
      "metadata": {
        "colab": {
          "base_uri": "https://localhost:8080/"
        },
        "id": "NaRtKTZ0hXMn",
        "outputId": "3b783b32-f0e8-4419-dd29-41d69b51b98b"
      },
      "execution_count": null,
      "outputs": [
        {
          "output_type": "stream",
          "name": "stdout",
          "text": [
            "find occurence : 0\n"
          ]
        }
      ]
    }
  ]
}