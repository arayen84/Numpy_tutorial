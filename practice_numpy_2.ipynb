{
  "nbformat": 4,
  "nbformat_minor": 0,
  "metadata": {
    "colab": {
      "provenance": [],
      "authorship_tag": "ABX9TyMg7YYjvv+3M35Do6yVacyS",
      "include_colab_link": true
    },
    "kernelspec": {
      "name": "python3",
      "display_name": "Python 3"
    },
    "language_info": {
      "name": "python"
    }
  },
  "cells": [
    {
      "cell_type": "markdown",
      "metadata": {
        "id": "view-in-github",
        "colab_type": "text"
      },
      "source": [
        "<a href=\"https://colab.research.google.com/github/arayen84/Numpy_tutorial/blob/main/practice_numpy_2.ipynb\" target=\"_parent\"><img src=\"https://colab.research.google.com/assets/colab-badge.svg\" alt=\"Open In Colab\"/></a>"
      ]
    },
    {
      "cell_type": "markdown",
      "source": [
        "## **Numpy Statistics**"
      ],
      "metadata": {
        "id": "FLc7pjhLYxHz"
      }
    },
    {
      "cell_type": "code",
      "source": [
        "import numpy as np"
      ],
      "metadata": {
        "id": "_HODi3dYZIwb"
      },
      "execution_count": null,
      "outputs": []
    },
    {
      "cell_type": "code",
      "source": [
        "# Write a Python program to find the maximum and minimum value of a given flattened array.\n",
        "find_min_max = np.arange(4).reshape((2,2))\n",
        "print(\"2D : \",find_min_max)\n",
        "find_max = np.amax(find_min_max)\n",
        "print(\"maximum : \",find_max)\n",
        "find_min = np.amin(find_min_max)\n",
        "print(\"minimum : \",find_min)"
      ],
      "metadata": {
        "colab": {
          "base_uri": "https://localhost:8080/"
        },
        "id": "Y7s_gACQY2s9",
        "outputId": "9d6a4ef6-4e35-4398-ec0d-16b58f7c37e1"
      },
      "execution_count": null,
      "outputs": [
        {
          "output_type": "stream",
          "name": "stdout",
          "text": [
            "2D :  [[0 1]\n",
            " [2 3]]\n",
            "maximum :  3\n",
            "minimum :  0\n"
          ]
        }
      ]
    },
    {
      "cell_type": "code",
      "source": [
        "# Write a NumPy program to get the minimum and maximum value of a given array along the second axis.\n",
        "find_min_max_1 = np.arange(6).reshape((2,3))\n",
        "print(\"2D array : \",find_min_max_1)\n",
        "find_max1 = np.amax(find_min_max_1,axis=1)\n",
        "print(\"max : \",find_max1)\n",
        "find_min1 = np.amin(find_min_max_1,axis=1)\n",
        "print(\"min : \",find_min1)"
      ],
      "metadata": {
        "colab": {
          "base_uri": "https://localhost:8080/"
        },
        "id": "5xD3e4AXalmq",
        "outputId": "7e2aca5b-5cf3-4261-b59c-95d3e5892d74"
      },
      "execution_count": null,
      "outputs": [
        {
          "output_type": "stream",
          "name": "stdout",
          "text": [
            "2D array :  [[0 1 2]\n",
            " [3 4 5]]\n",
            "max :  [2 5]\n",
            "min :  [0 3]\n"
          ]
        }
      ]
    },
    {
      "cell_type": "code",
      "source": [
        "# Write a NumPy program to calculate the difference between the maximum and the minimum values of a given array along the second axis.\n",
        "find_diff = np.arange(12).reshape((2,6))\n",
        "print(\"original array : \",find_diff)\n",
        "find_diff_max = np.amax(find_diff,axis=1)\n",
        "print(\"max : \",find_diff_max)\n",
        "find_diff_min = np.amin(find_diff,axis=1)\n",
        "print(\"min : \",find_diff_min)\n",
        "arr_diff = find_diff_max - find_diff_min\n",
        "print(\"Difference bet max,min : \",arr_diff)\n",
        "find_peak = np.ptp(find_diff,axis =1)\n",
        "print(\"ptp : \",find_peak)"
      ],
      "metadata": {
        "colab": {
          "base_uri": "https://localhost:8080/"
        },
        "id": "NUW5NLohcfKt",
        "outputId": "d6d218cd-1e0e-4477-a1bd-745d2a557f66"
      },
      "execution_count": null,
      "outputs": [
        {
          "output_type": "stream",
          "name": "stdout",
          "text": [
            "original array :  [[ 0  1  2  3  4  5]\n",
            " [ 6  7  8  9 10 11]]\n",
            "max :  [ 5 11]\n",
            "min :  [0 6]\n",
            "Difference bet max,min :  [5 5]\n",
            "ptp :  [5 5]\n"
          ]
        }
      ]
    },
    {
      "cell_type": "code",
      "source": [
        "# Write a NumPy program to compute the 80th percentile for all elements in a given array along the second axis.\n",
        "find_percent = np.arange(12).reshape((2,6))\n",
        "print(\"original : \",find_percent)\n",
        "find_percentile = np.percentile(find_percent,80,axis =1)\n",
        "print(\"80% of element : \",find_percentile)"
      ],
      "metadata": {
        "colab": {
          "base_uri": "https://localhost:8080/"
        },
        "id": "Woqrydkhe6IU",
        "outputId": "e4725ebf-8faf-4f6b-d955-a84d127ac0ee"
      },
      "execution_count": null,
      "outputs": [
        {
          "output_type": "stream",
          "name": "stdout",
          "text": [
            "original :  [[ 0  1  2  3  4  5]\n",
            " [ 6  7  8  9 10 11]]\n",
            "80% of element :  [ 4. 10.]\n"
          ]
        }
      ]
    },
    {
      "cell_type": "code",
      "source": [
        "# Write a NumPy program to compute the median of flattened given array.\n",
        "# Note: First array elements raised to powers from second array\n",
        "find_median = np.arange(12).reshape((2,6))\n",
        "print(\"original : \",find_median)\n",
        "find_arr_median = np.median(find_median)\n",
        "print(\"median : \",find_arr_median)"
      ],
      "metadata": {
        "colab": {
          "base_uri": "https://localhost:8080/"
        },
        "id": "rWb_nEB7gPUw",
        "outputId": "af9cd86e-322b-49c1-8f0d-e54710e554ea"
      },
      "execution_count": null,
      "outputs": [
        {
          "output_type": "stream",
          "name": "stdout",
          "text": [
            "original :  [[ 0  1  2  3  4  5]\n",
            " [ 6  7  8  9 10 11]]\n",
            "median :  5.5\n"
          ]
        }
      ]
    },
    {
      "cell_type": "code",
      "source": [
        "# Write a NumPy program to compute the weighted of a given array.\n",
        "ori_arr = np.arange(12)\n",
        "print(\"original : \",ori_arr)\n",
        "wei = np.arange(12)\n",
        "print(\"weight : \",wei)\n",
        "cal_weight = np.average(ori_arr,weights=wei)\n",
        "print(\"sum : \",cal_weight)"
      ],
      "metadata": {
        "colab": {
          "base_uri": "https://localhost:8080/"
        },
        "id": "kci8LnWfhODx",
        "outputId": "027a64ec-7ede-40d1-b500-677a88932462"
      },
      "execution_count": null,
      "outputs": [
        {
          "output_type": "stream",
          "name": "stdout",
          "text": [
            "original :  [ 0  1  2  3  4  5  6  7  8  9 10 11]\n",
            "weight :  [ 0  1  2  3  4  5  6  7  8  9 10 11]\n",
            "sum :  7.666666666666667\n"
          ]
        }
      ]
    },
    {
      "cell_type": "code",
      "source": [
        "# Write a NumPy program to compute the mean, standard deviation, and variance of a given array along the second axis.\n",
        "find_m_s_v = np.arange(6)\n",
        "print(\"original : \",find_m_s_v)\n",
        "find_mean = np.mean(find_m_s_v)\n",
        "print(\"mean : \",find_mean)\n",
        "find_stand = np.std(find_m_s_v)\n",
        "print(\"standard deviation : \",find_stand)\n",
        "find_variance = np.var(find_m_s_v)\n",
        "print(\"vaniance : \",find_variance)"
      ],
      "metadata": {
        "colab": {
          "base_uri": "https://localhost:8080/"
        },
        "id": "Aj8idd6NjBsy",
        "outputId": "37abfcf8-6dca-45b2-803a-1811e522f7f5"
      },
      "execution_count": null,
      "outputs": [
        {
          "output_type": "stream",
          "name": "stdout",
          "text": [
            "original :  [0 1 2 3 4 5]\n",
            "mean :  2.5\n",
            "standard deviation :  1.707825127659933\n",
            "vaniance :  2.9166666666666665\n"
          ]
        }
      ]
    },
    {
      "cell_type": "code",
      "source": [
        "# Write a NumPy program to compute cross-correlation of two given arrays.\n",
        "cor_arr = np.arange(3)\n",
        "print(\"arr1 : \",cor_arr)\n",
        "cor_arr2 = np.array([4,5,6])\n",
        "print(\"arr2 : \",cor_arr2)\n",
        "find_cross = np.correlate(cor_arr,cor_arr2)\n",
        "print(find_cross)\n"
      ],
      "metadata": {
        "colab": {
          "base_uri": "https://localhost:8080/"
        },
        "id": "W62cytaOlaU_",
        "outputId": "36ca1ec9-2f7b-4da3-e9f6-dcfbd26b04b6"
      },
      "execution_count": null,
      "outputs": [
        {
          "output_type": "stream",
          "name": "stdout",
          "text": [
            "arr1 :  [0 1 2]\n",
            "arr2 :  [4 5 6]\n",
            "[17]\n"
          ]
        }
      ]
    },
    {
      "cell_type": "code",
      "source": [
        "#Write a NumPy program to compute pearson product-moment correlation coefficients of two given arrays.\n"
      ],
      "metadata": {
        "id": "d11HIWGZiiCX"
      },
      "execution_count": null,
      "outputs": []
    }
  ]
}